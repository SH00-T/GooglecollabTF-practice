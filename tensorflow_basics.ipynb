{
  "nbformat": 4,
  "nbformat_minor": 0,
  "metadata": {
    "colab": {
      "name": "tensorflow basics.ipynb",
      "provenance": [],
      "collapsed_sections": [],
      "authorship_tag": "ABX9TyMxWWWwUZM9XpiemYJoOugX",
      "include_colab_link": true
    },
    "kernelspec": {
      "name": "python3",
      "display_name": "Python 3"
    },
    "language_info": {
      "name": "python"
    }
  },
  "cells": [
    {
      "cell_type": "markdown",
      "metadata": {
        "id": "view-in-github",
        "colab_type": "text"
      },
      "source": [
        "<a href=\"https://colab.research.google.com/github/SH00-T/GooglecollabTF-practice/blob/main/tensorflow_basics.ipynb\" target=\"_parent\"><img src=\"https://colab.research.google.com/assets/colab-badge.svg\" alt=\"Open In Colab\"/></a>"
      ]
    },
    {
      "cell_type": "code",
      "execution_count": null,
      "metadata": {
        "id": "iubU8V07yC5S"
      },
      "outputs": [],
      "source": [
        "import tensorflow as tf"
      ]
    },
    {
      "cell_type": "markdown",
      "source": [
        "Initialization"
      ],
      "metadata": {
        "id": "0abhZDtq2kiN"
      }
    },
    {
      "cell_type": "code",
      "source": [
        "from google.colab import drive\n",
        "drive.mount('/content/drive')"
      ],
      "metadata": {
        "id": "j95G7MBPFrhk"
      },
      "execution_count": null,
      "outputs": []
    },
    {
      "cell_type": "code",
      "source": [
        "x = tf.constant([[1,2,3],[3,4,5]])\n",
        "x = tf.ones((3,3))\n",
        "x = tf.zeros((2,3))\n",
        "x = tf.eye(3) #I(eye) for identity matrix\n",
        "x = tf.random.normal((3,3),mean=0, stddev=1)\n",
        "x = tf.random.uniform((3,3),minval=0,maxval=2)\n",
        "x = tf.range(start = 1 , limit = 10 , delta = 2) #Start = starting value,Limit =  end value, delta = step to limit\n",
        "x = tf.cast(x, dtype = tf.float64) \n",
        "# cast used to convert the data type & tf.float = (16,32,64) ,tf.int(8,16,32,64),tf.bool(0,1)\n",
        "# these are the different types of cast\n"
      ],
      "metadata": {
        "id": "mb3itCmOyI_k"
      },
      "execution_count": null,
      "outputs": []
    },
    {
      "cell_type": "markdown",
      "source": [
        "Mathematical  Operations\n"
      ],
      "metadata": {
        "id": "jUC-5ZVW6OdI"
      }
    },
    {
      "cell_type": "code",
      "source": [
        "x = tf.constant([1,2,3])\n",
        "y = tf.constant([9,8,7])\n",
        "# Addition\n",
        "z = tf.add(x,y)\n",
        "# Another way is \n",
        "z = x + y\n",
        "# Subtraction\n",
        "z = tf.subtract(x,y)\n",
        "# Another way is \n",
        "z = x - y\n",
        "# Division\n",
        "z = tf.divide(x,y)\n",
        "# Another way is \n",
        "z = x / y\n",
        "# Mulitiplication\n",
        "z = tf.multiply(x,y)\n",
        "# Another way is\n",
        "z = x * y\n",
        "# Sum\n",
        "# Tensordot (also known as tensor contraction) sums the product of elements from a and b over the indices specified by axes .\n",
        "z = tf.tensordot(x,y, axes = 1)\n",
        "# you are squeezing from bottom and top so that two separate rows become one row.\n",
        "z = tf.reduce_sum(x*y, axis = 0)\n",
        "# Element wise exponential\n",
        "z = x ** 2\n",
        "# Matrix multiplication\n",
        "x = tf.random.normal((2,3))\n",
        "y = tf.random.normal((3,4))\n",
        "z = tf.matmul(x,y)\n",
        "# Another way is\n",
        "z = x @ y"
      ],
      "metadata": {
        "id": "gNwaAq6s2xi1"
      },
      "execution_count": null,
      "outputs": []
    },
    {
      "cell_type": "markdown",
      "source": [
        "Indexing"
      ],
      "metadata": {
        "id": "LEiCNzJO_lb4"
      }
    },
    {
      "cell_type": "code",
      "source": [
        "x = tf.constant([1,2,3,4,5,6])\n",
        "# print(x[:])# print all elements\n",
        "# print(x[1:]) # print all except  the mentioned indexed element\n",
        "# print(x[1:3]) # print mentioned from index to index others are omitted\n",
        "# print(x[::2]) # skip every 2 elements\n",
        "# print(x[::-1]) # print in reverse order\n",
        "indices = tf.constant([0,3])\n",
        "# print(x,indices)\n",
        "x_indices = tf.gather(x,indices)\n",
        "# print(x_indices)\n",
        "x = tf.constant(\n",
        "                [[1,2],\n",
        "                 [2,3],\n",
        "                 [4,5]])\n",
        "# print(x[0,:])#get 1 st index from to all elements in first index\n",
        "# print(x[0:2,:])#get 1st two , by using : get all elements \n"
      ],
      "metadata": {
        "id": "km-vvCQK6sXN"
      },
      "execution_count": null,
      "outputs": []
    },
    {
      "cell_type": "markdown",
      "source": [
        "Reshaping"
      ],
      "metadata": {
        "id": "BdMEOdvsELMB"
      }
    },
    {
      "cell_type": "code",
      "source": [
        "  x = tf.range(9)\n",
        "  x = tf.reshape(x,(3,3))\n",
        "  print(x)\n",
        "  x = tf.transpose(x, perm=[1,0])# change columns and row or rearrange the order\n",
        "  x"
      ],
      "metadata": {
        "colab": {
          "base_uri": "https://localhost:8080/"
        },
        "id": "0Rxoz8nv_zwK",
        "outputId": "ad9c466e-49e2-40e1-be03-9d70599c955d"
      },
      "execution_count": null,
      "outputs": [
        {
          "output_type": "stream",
          "name": "stdout",
          "text": [
            "tf.Tensor(\n",
            "[[0 1 2]\n",
            " [3 4 5]\n",
            " [6 7 8]], shape=(3, 3), dtype=int32)\n"
          ]
        },
        {
          "output_type": "execute_result",
          "data": {
            "text/plain": [
              "<tf.Tensor: shape=(3, 3), dtype=int32, numpy=\n",
              "array([[0, 3, 6],\n",
              "       [1, 4, 7],\n",
              "       [2, 5, 8]], dtype=int32)>"
            ]
          },
          "metadata": {},
          "execution_count": 72
        }
      ]
    },
    {
      "cell_type": "code",
      "source": [
        ""
      ],
      "metadata": {
        "id": "qLNrXiiLEYIc"
      },
      "execution_count": null,
      "outputs": []
    }
  ]
}